{
 "cells": [
  {
   "cell_type": "code",
   "execution_count": 3,
   "metadata": {},
   "outputs": [],
   "source": [
    "from tensorboard.backend.event_processing import event_accumulator"
   ]
  },
  {
   "cell_type": "code",
   "execution_count": 335,
   "metadata": {},
   "outputs": [
    {
     "name": "stdout",
     "output_type": "stream",
     "text": [
      "['1_validation/image_ct_source/val_dice', '1_validation/image_mri_target/val_dice']\n",
      "highest value of evaluators added: 1.5321493744850159\n",
      "epoch of highest value: 28\n",
      "value of evaluator 1 at highest epoch: 0.8154565691947937\n",
      "value of evaluator 2 at highest epoch: 0.7166928052902222\n"
     ]
    }
   ],
   "source": [
    "#for segmentation\n",
    "event_file = '/cvhci/temp/frseiz/data_output/CT/8_ugda_dextr_ct/dif_norm/pancreas_z/tensorboard/events.out.tfevents.1729641381.i14s47'\n",
    "ea = event_accumulator.EventAccumulator(event_file)\n",
    "\n",
    "# Load the events\n",
    "ea.Reload()\n",
    "\n",
    "# Print available tags\n",
    "scalar_keys = ea.Tags()['scalars']\n",
    "validation = [key for key in scalar_keys if key.startswith('1_validation') and key.endswith('val_dice')]\n",
    "print(validation)\n",
    "values_dict = {}\n",
    "\n",
    "for key in validation:\n",
    "    events = ea.Scalars(key)\n",
    "    values_dict[key] = []\n",
    "    for event in events:\n",
    "        values_dict[key].append(event.value)\n",
    "added_values = [x + y for x, y in zip(values_dict[validation[0]], values_dict[validation[1]])]\n",
    "max_value = max(added_values)\n",
    "print('highest value of evaluators added:',max_value)\n",
    "index = added_values.index(max_value)\n",
    "print('epoch of highest value:', index+1)\n",
    "print('value of evaluator 1 at highest epoch:', values_dict[validation[0]][index])\n",
    "print('value of evaluator 2 at highest epoch:', values_dict[validation[1]][index])\n",
    "\n"
   ]
  },
  {
   "cell_type": "code",
   "execution_count": 21,
   "metadata": {},
   "outputs": [
    {
     "name": "stdout",
     "output_type": "stream",
     "text": [
      "['1_validation/image_ct_source/val_mse', '1_validation/image_mri_target/val_mse']\n",
      "lowest value of evaluators added: 0.004484087345190346\n",
      "epoch of highest value: 78\n",
      "value of evaluator 1 at lowest epoch: 0.001017781556583941\n",
      "value of evaluator 2 at lowest epoch: 0.0034663057886064053\n"
     ]
    }
   ],
   "source": [
    "#for extreme points\n",
    "event_file = '/cvhci/temp/frseiz/data_output/ep_ct/stomach/tensorboard/events.out.tfevents.1726606156.i14s42'\n",
    "ea = event_accumulator.EventAccumulator(event_file)\n",
    "\n",
    "# Load the events\n",
    "ea.Reload()\n",
    "\n",
    "# Print available tags\n",
    "scalar_keys = ea.Tags()['scalars']\n",
    "validation = [key for key in scalar_keys if key.startswith('1_validation') and key.endswith('val_mse')]\n",
    "print(validation)\n",
    "values_dict = {}\n",
    "\n",
    "# Extract and print scalar events (e.g., loss, accuracy)\n",
    "for key in validation:\n",
    "    events = ea.Scalars(key)\n",
    "    values_dict[key] = []\n",
    "    for event in events:\n",
    "        values_dict[key].append(event.value)\n",
    "\n",
    "added_values = [x + y for x, y in zip(values_dict[validation[0]], values_dict[validation[1]])]\n",
    "min_value = min(added_values)\n",
    "print('lowest value of evaluators added:',min_value)\n",
    "index = added_values.index(min_value)\n",
    "print('epoch of highest value:', index+1)\n",
    "print('value of evaluator 1 at lowest epoch:', values_dict[validation[0]][index])\n",
    "print('value of evaluator 2 at lowest epoch:', values_dict[validation[1]][index])\n"
   ]
  },
  {
   "cell_type": "code",
   "execution_count": null,
   "metadata": {},
   "outputs": [],
   "source": []
  }
 ],
 "metadata": {
  "kernelspec": {
   "display_name": "Python 3",
   "language": "python",
   "name": "python3"
  },
  "language_info": {
   "codemirror_mode": {
    "name": "ipython",
    "version": 3
   },
   "file_extension": ".py",
   "mimetype": "text/x-python",
   "name": "python",
   "nbconvert_exporter": "python",
   "pygments_lexer": "ipython3",
   "version": "3.12.4"
  }
 },
 "nbformat": 4,
 "nbformat_minor": 2
}
